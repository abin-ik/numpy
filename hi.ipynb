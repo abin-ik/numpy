{
 "cells": [
  {
   "cell_type": "code",
   "execution_count": 1,
   "id": "6009ee57",
   "metadata": {},
   "outputs": [
    {
     "name": "stdout",
     "output_type": "stream",
     "text": [
      "sum 3\n"
     ]
    }
   ],
   "source": [
    "def add(n1,n2):\n",
    "    a =n1+n2\n",
    "    return a\n",
    "\n",
    "def hi():\n",
    "    print(\"sum\",add(1,2))\n",
    "    \n",
    "hi()"
   ]
  },
  {
   "cell_type": "code",
   "execution_count": 92,
   "id": "a39a8b14",
   "metadata": {},
   "outputs": [
    {
     "name": "stdout",
     "output_type": "stream",
     "text": [
      "120\n"
     ]
    }
   ],
   "source": [
    "def fact(n):\n",
    "    \n",
    "    if n==0 or n==1:\n",
    "        return 1\n",
    "    else:\n",
    "        return n*fact(n-1)\n",
    "#n=int(input(\"enter a number\"))\n",
    "n=int(input(\"enter a number\"))\n",
    "print(fact(n))\n",
    "\n"
   ]
  },
  {
   "cell_type": "code",
   "execution_count": 19,
   "id": "a2f61f30",
   "metadata": {},
   "outputs": [
    {
     "name": "stdout",
     "output_type": "stream",
     "text": [
      "[1, 4, 27, 256, 3125]\n"
     ]
    }
   ],
   "source": [
    "sq=[i**i for i in range(1,6)]\n",
    "print(sq)"
   ]
  },
  {
   "cell_type": "code",
   "execution_count": null,
   "id": "351258a8",
   "metadata": {},
   "outputs": [
    {
     "name": "stdout",
     "output_type": "stream",
     "text": [
      "[0, 2, 4]\n"
     ]
    }
   ],
   "source": [
    "even=[i for i in range(n) if i%2==0 ]\n",
    "n=int(input(\"enter a number\"))\n",
    "print(even)\n"
   ]
  },
  {
   "cell_type": "markdown",
   "id": "2a75971f",
   "metadata": {},
   "source": [
    "given a list of strings use a list compersiion to creatr a new list containing ony stirngs tht have more than five characters like \n"
   ]
  },
  {
   "cell_type": "code",
   "execution_count": 33,
   "id": "7f275344",
   "metadata": {},
   "outputs": [
    {
     "name": "stdout",
     "output_type": "stream",
     "text": [
      "['bananaa', 'helooooo']\n"
     ]
    }
   ],
   "source": [
    "even=[\"hi\",\"bananaa\",\"three\",\"helooooo\"]\n",
    "s=[i for i in even if len(i)> 5]\n",
    "print(s)"
   ]
  },
  {
   "cell_type": "markdown",
   "id": "11f636ef",
   "metadata": {},
   "source": [
    "print only the names in list"
   ]
  },
  {
   "cell_type": "code",
   "execution_count": 77,
   "id": "56ba076f",
   "metadata": {},
   "outputs": [
    {
     "name": "stdout",
     "output_type": "stream",
     "text": [
      "['john1', 'john']\n"
     ]
    }
   ],
   "source": [
    "s=[{\"name\":\"john1\",\"age\":18},{\"name\":\"john\",\"age\":20}]\n",
    "c=[value for i in s for key,value in i.items() if key==\"name\" ]\n",
    "print(c)"
   ]
  },
  {
   "cell_type": "markdown",
   "id": "e816f444",
   "metadata": {},
   "source": [
    "nested list into a single  list"
   ]
  },
  {
   "cell_type": "code",
   "execution_count": 80,
   "id": "28d01c1d",
   "metadata": {},
   "outputs": [
    {
     "name": "stdout",
     "output_type": "stream",
     "text": [
      "[1, 2, 3, 4, 5, 6, 7, 8, 9]\n"
     ]
    }
   ],
   "source": [
    "x=[[1,2,3],[4,5,6],[7,8,9]]\n",
    "d=[x for i in x for x in i ]\n",
    "print(d)"
   ]
  },
  {
   "cell_type": "code",
   "execution_count": null,
   "id": "f1fb6750",
   "metadata": {},
   "outputs": [],
   "source": []
  }
 ],
 "metadata": {
  "kernelspec": {
   "display_name": "Python 3",
   "language": "python",
   "name": "python3"
  },
  "language_info": {
   "codemirror_mode": {
    "name": "ipython",
    "version": 3
   },
   "file_extension": ".py",
   "mimetype": "text/x-python",
   "name": "python",
   "nbconvert_exporter": "python",
   "pygments_lexer": "ipython3",
   "version": "3.13.7"
  }
 },
 "nbformat": 4,
 "nbformat_minor": 5
}
