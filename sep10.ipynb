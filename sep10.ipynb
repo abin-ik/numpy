{
 "cells": [
  {
   "cell_type": "code",
   "execution_count": 9,
   "id": "2da97a0a",
   "metadata": {},
   "outputs": [
    {
     "name": "stdout",
     "output_type": "stream",
     "text": [
      "name is abin,salry is 2984\n",
      "company name is abbb\n"
     ]
    },
    {
     "data": {
      "text/plain": [
       "True"
      ]
     },
     "execution_count": 9,
     "metadata": {},
     "output_type": "execute_result"
    }
   ],
   "source": [
    "class employe:\n",
    "    cname=\"xyz\"\n",
    "\n",
    "    def __init__(self,name,salary):\n",
    "        self.name=name\n",
    "        self.salary=salary\n",
    "\n",
    "\n",
    "    def show(self):\n",
    "        print(f\"name is {self.name},salry is {self.salary}\")\n",
    "\n",
    "\n",
    "    @classmethod\n",
    "    def new_company(cls,cname):\n",
    "        cls.cname=cname\n",
    "        print(f\"company name is {cls.cname}\")\n",
    "    \n",
    "    @staticmethod\n",
    "    def valid_salary(salary):\n",
    "        return salary>0\n",
    "\n",
    "\n",
    "c1=employe(\"abin\",2984)\n",
    "c1.show()\n",
    "employe.new_company(\"abbb\")\n",
    "employe.valid_salary(10)\n",
    "\n",
    "\n",
    "\n"
   ]
  },
  {
   "cell_type": "code",
   "execution_count": 20,
   "id": "c5ba169c",
   "metadata": {},
   "outputs": [
    {
     "name": "stdout",
     "output_type": "stream",
     "text": [
      "balance is 100\n",
      "intrest rate is 100\n",
      "minimum balance should be 10000\n"
     ]
    }
   ],
   "source": [
    "class BankAccount:\n",
    "\n",
    "    rate=0\n",
    "    def __init__(self,balance=0):\n",
    "        self.balance=balance\n",
    "    \n",
    "    def deposit(self,amount):\n",
    "        self.balance=amount+self.balance\n",
    "        print(f\"balance is {self.balance}\")\n",
    "        \n",
    "    \n",
    "    @classmethod\n",
    "    def intrest(cls,rate):\n",
    "        cls.rate=rate\n",
    "        print(f\"intrest rate is {cls.rate}\")\n",
    "\n",
    "\n",
    "    @staticmethod\n",
    "    def policy():\n",
    "        print(\"minimum balance should be 10000\")\n",
    "\n",
    "\n",
    "b=BankAccount()\n",
    "b.deposit(100)\n",
    "BankAccount.intrest(100)\n",
    "BankAccount.policy()"
   ]
  },
  {
   "cell_type": "code",
   "execution_count": 79,
   "id": "446ca281",
   "metadata": {},
   "outputs": [
    {
     "name": "stdout",
     "output_type": "stream",
     "text": [
      "[6, 5, 4, 3, 1]\n"
     ]
    }
   ],
   "source": [
    "a=(1,3,4,5,6)\n",
    "m=len(a)\n",
    "\n",
    "h=[]\n",
    "for i in range(len(a)):\n",
    "    \n",
    "\n",
    "    for i in range(m):\n",
    "        pass\n",
    "        \n",
    "    m=m-1    \n",
    "    h.append(a[i])\n",
    "print(h)\n",
    "    \n",
    "    \n",
    "    "
   ]
  },
  {
   "cell_type": "code",
   "execution_count": 176,
   "id": "5ff2e162",
   "metadata": {},
   "outputs": [
    {
     "name": "stdout",
     "output_type": "stream",
     "text": [
      "0\n",
      "8\n",
      "5\n"
     ]
    }
   ],
   "source": [
    "n=int(input(\"enter a number\"))\n",
    "i=1\n",
    "n1=1\n",
    "while i>0:\n",
    "    n1=(n%10)\n",
    "    print(int(n1))\n",
    "    n=int(n/10)\n",
    "    if n==0:\n",
    "        break\n",
    "        \n",
    "       \n",
    "       \n",
    "\n",
    "    \n",
    "\n",
    "\n",
    "\n",
    "\n",
    "\n",
    "\n",
    "\n",
    "    "
   ]
  },
  {
   "cell_type": "code",
   "execution_count": 163,
   "id": "97d44a88",
   "metadata": {},
   "outputs": [
    {
     "name": "stdout",
     "output_type": "stream",
     "text": [
      "5\n"
     ]
    }
   ],
   "source": [
    "print(5%10)"
   ]
  },
  {
   "cell_type": "code",
   "execution_count": 217,
   "id": "68ca96cf",
   "metadata": {},
   "outputs": [
    {
     "name": "stdout",
     "output_type": "stream",
     "text": [
      "[1, 2, 3, 4, 51, 6, 7, 9]\n"
     ]
    }
   ],
   "source": [
    "l1=[1,2,2,3,4,51,2,3,4,1,2,6,7,2,3,9]\n",
    "l2=[]\n",
    "for i in l1:\n",
    "       if i in l2:\n",
    "          continue\n",
    "       else:\n",
    "          l2.append(i)\n",
    "              \n",
    "              \n",
    "print(l2)\n",
    "        \n",
    "\n"
   ]
  },
  {
   "cell_type": "code",
   "execution_count": null,
   "id": "a28f9321",
   "metadata": {},
   "outputs": [],
   "source": []
  }
 ],
 "metadata": {
  "kernelspec": {
   "display_name": "Python 3",
   "language": "python",
   "name": "python3"
  },
  "language_info": {
   "codemirror_mode": {
    "name": "ipython",
    "version": 3
   },
   "file_extension": ".py",
   "mimetype": "text/x-python",
   "name": "python",
   "nbconvert_exporter": "python",
   "pygments_lexer": "ipython3",
   "version": "3.13.7"
  }
 },
 "nbformat": 4,
 "nbformat_minor": 5
}
