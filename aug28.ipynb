{
 "cells": [
  {
   "cell_type": "markdown",
   "id": "3252eb2a",
   "metadata": {},
   "source": [
    "5\n",
    "25\n",
    "125\n",
    "print the code\n",
    "\n",
    "powers of a number"
   ]
  },
  {
   "cell_type": "code",
   "execution_count": 4,
   "id": "98afb367",
   "metadata": {},
   "outputs": [
    {
     "name": "stdout",
     "output_type": "stream",
     "text": [
      "2\n",
      "4\n",
      "8\n",
      "16\n"
     ]
    }
   ],
   "source": [
    "n=int(input(\"enter a number\"))\n",
    "h=int(input(\"enter a number\"))\n",
    "for i in range(1,n+1):\n",
    "    print(h**i)"
   ]
  },
  {
   "cell_type": "markdown",
   "id": "74a0a857",
   "metadata": {},
   "source": [
    "5 4 3 2 1\n",
    "\n",
    "4 3 2 1\n",
    "\n",
    "3 2 1\n",
    "\n",
    "2 1\n",
    "\n",
    "1"
   ]
  },
  {
   "cell_type": "code",
   "execution_count": null,
   "id": "42e671a7",
   "metadata": {},
   "outputs": [
    {
     "name": "stdout",
     "output_type": "stream",
     "text": [
      "54321\n",
      "4321\n",
      "321\n",
      "21\n",
      "1\n",
      "\n"
     ]
    }
   ],
   "source": [
    "n=int(input(\"enter a number \"))\n",
    "n=n+1\n",
    "for i in range(n+1):\n",
    "    n=n-1\n",
    "    for x in range(n+1):\n",
    "        if x==n:\n",
    "            print()\n",
    "        else:    \n",
    "            print((n-x),end=\"\")\n",
    "           \n",
    "\n",
    "\n"
   ]
  },
  {
   "cell_type": "code",
   "execution_count": 63,
   "id": "6e09fba5",
   "metadata": {},
   "outputs": [
    {
     "name": "stdout",
     "output_type": "stream",
     "text": [
      "543210432103210210100"
     ]
    }
   ],
   "source": [
    "n=int(input(\"enter a number \"))\n",
    "n=n+1\n",
    "for i in range(n+1):\n",
    "    n=n-1\n",
    "    for x in range(n+1):\n",
    "        print((n-x),end=\"\")"
   ]
  },
  {
   "cell_type": "code",
   "execution_count": 2,
   "id": "504d5859",
   "metadata": {},
   "outputs": [
    {
     "name": "stdout",
     "output_type": "stream",
     "text": [
      "54321\n",
      "4321\n",
      "321\n",
      "21\n",
      "1\n"
     ]
    }
   ],
   "source": [
    "n=int(input(\"enter a number\"))\n",
    "for i in range(n, 0, -1):   # start from n down to 1\n",
    "    for j in range(i, 0, -1):\n",
    "        print(j, end=\"\")\n",
    "    print()  "
   ]
  },
  {
   "cell_type": "code",
   "execution_count": null,
   "id": "d681ca45",
   "metadata": {},
   "outputs": [],
   "source": []
  }
 ],
 "metadata": {
  "kernelspec": {
   "display_name": "Python 3",
   "language": "python",
   "name": "python3"
  },
  "language_info": {
   "codemirror_mode": {
    "name": "ipython",
    "version": 3
   },
   "file_extension": ".py",
   "mimetype": "text/x-python",
   "name": "python",
   "nbconvert_exporter": "python",
   "pygments_lexer": "ipython3",
   "version": "3.13.7"
  }
 },
 "nbformat": 4,
 "nbformat_minor": 5
}
