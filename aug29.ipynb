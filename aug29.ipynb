{
 "cells": [
  {
   "cell_type": "markdown",
   "id": "ccc735d8",
   "metadata": {},
   "source": [
    "ml is the subset of ai\n",
    "\n",
    " netflix\n",
    "\n",
    "like,dislike\n",
    "\n",
    "\n",
    "time  watched\n",
    "\n",
    "moat watched generes \n",
    "\n",
    "languages most watched ,mostly liked\n",
    "\n",
    "mostly searched\n",
    "\n",
    "second parts of movies we liked or watched\n"
   ]
  },
  {
   "cell_type": "markdown",
   "id": "af7673ad",
   "metadata": {},
   "source": []
  },
  {
   "cell_type": "markdown",
   "id": "25c6dece",
   "metadata": {},
   "source": [
    "watches\n",
    "\n",
    "supervised\n",
    "\n",
    "companies\n",
    "\n",
    "unsupervised\n",
    "\n",
    "automatic\n",
    "manual\n",
    "cost\n",
    "\n",
    "reinforcement\n",
    "\n",
    "mostly liked and disliked"
   ]
  },
  {
   "cell_type": "markdown",
   "id": "6fa3ca6a",
   "metadata": {},
   "source": [
    "self driving car\n",
    " supervised\n",
    " road signals\n",
    " routes\n",
    " left right\n",
    "\n",
    " unsupervised\n",
    "\n",
    " easy routes\n",
    " self driving\n",
    "\n",
    "\n",
    " reinforcent learning\n",
    "\n",
    " frequent routes\n",
    " work place \n",
    " home destination\n",
    " comfort"
   ]
  },
  {
   "cell_type": "markdown",
   "id": "d2fe2074",
   "metadata": {},
   "source": [
    "find the factorial of a givan number\n",
    "\n"
   ]
  },
  {
   "cell_type": "code",
   "execution_count": 40,
   "id": "0d4e0ef3",
   "metadata": {},
   "outputs": [
    {
     "name": "stdout",
     "output_type": "stream",
     "text": [
      "120\n"
     ]
    }
   ],
   "source": [
    "n=int(input(\"enter a number\"))\n",
    "for i in range(1,n):\n",
    "    if n==0:\n",
    "        print(\"0\")\n",
    "    else:\n",
    "        h=n-(n-i)\n",
    "        n=n*h\n",
    "\n",
    "print(n)\n",
    "   \n",
    "\n"
   ]
  },
  {
   "cell_type": "markdown",
   "id": "6161d354",
   "metadata": {},
   "source": [
    "find the prime numbers from the given list"
   ]
  },
  {
   "cell_type": "code",
   "execution_count": null,
   "id": "edfc4124",
   "metadata": {},
   "outputs": [
    {
     "name": "stdout",
     "output_type": "stream",
     "text": [
      "[1, 2, 9, 11, 4]\n",
      "[2, 11]\n"
     ]
    }
   ],
   "source": [
    "n=int(input(\"input enter the number in a list\"))\n",
    "l=[]\n",
    "h=[]\n",
    "for x in range(n):\n",
    "    m=int(input(\"enter the number\"))\n",
    "    l.append(m)\n",
    "print(l)\n",
    "for i in range(len(l)):\n",
    "    if l[i]%2==0:\n",
    "        if l[i]==2:\n",
    "            h.append(l[i])\n",
    "        else:\n",
    "            continue\n",
    "    elif l[i]%3==0:\n",
    "        if l[i]==3:\n",
    "            h.append(l[i])\n",
    "        else:\n",
    "            continue\n",
    "    elif l[i]==1:\n",
    "        continue\n",
    "    else:\n",
    "        h.append(l[i])\n",
    "print(h)       "
   ]
  },
  {
   "cell_type": "code",
   "execution_count": 100,
   "id": "9da6cf0b",
   "metadata": {},
   "outputs": [
    {
     "name": "stdout",
     "output_type": "stream",
     "text": [
      "[1, 11, 6, 7, 2]\n",
      "[1, 0, 6, 0, 0]\n"
     ]
    }
   ],
   "source": [
    "n=int(input(\"input enter the number in a list\"))\n",
    "l=[]\n",
    "h=[]\n",
    "for x in range(n):\n",
    "    m=int(input(\"enter the number\"))\n",
    "    l.append(m)\n",
    "print(l)\n",
    "for i in range(len(l)):\n",
    "    if l[i]%2==0:\n",
    "        if l[i]==2:\n",
    "            h.append(0)\n",
    "        else:\n",
    "            h.append(l[i])\n",
    "    elif l[i]%3==0:\n",
    "        if l[i]==3:\n",
    "            h.append(0)\n",
    "        else:\n",
    "            h.append(l[i])\n",
    "    elif l[i]==1:\n",
    "        h.append(1)\n",
    "    else:\n",
    "        h.append(0)\n",
    "print(h)       "
   ]
  },
  {
   "cell_type": "code",
   "execution_count": 133,
   "id": "0eb5e087",
   "metadata": {},
   "outputs": [
    {
     "name": "stdout",
     "output_type": "stream",
     "text": [
      "\n",
      "*\n",
      "**\n",
      "***\n",
      "\n",
      "*\n",
      "**\n",
      "***\n",
      "****\n"
     ]
    }
   ],
   "source": [
    "n=int(input(\"enter a number\"))\n",
    "a=\"*\"\n",
    "\n",
    "for i in range(n):\n",
    "    print(a*i)\n",
    "for x in range(n+1):\n",
    "     print(a*x)\n"
   ]
  },
  {
   "cell_type": "code",
   "execution_count": null,
   "id": "9e0311e4",
   "metadata": {},
   "outputs": [],
   "source": []
  }
 ],
 "metadata": {
  "kernelspec": {
   "display_name": "Python 3",
   "language": "python",
   "name": "python3"
  },
  "language_info": {
   "codemirror_mode": {
    "name": "ipython",
    "version": 3
   },
   "file_extension": ".py",
   "mimetype": "text/x-python",
   "name": "python",
   "nbconvert_exporter": "python",
   "pygments_lexer": "ipython3",
   "version": "3.13.7"
  }
 },
 "nbformat": 4,
 "nbformat_minor": 5
}
