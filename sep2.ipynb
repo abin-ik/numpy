{
 "cells": [
  {
   "cell_type": "code",
   "execution_count": 4,
   "id": "8168f5dd",
   "metadata": {},
   "outputs": [
    {
     "name": "stdout",
     "output_type": "stream",
     "text": [
      "6\n"
     ]
    }
   ],
   "source": [
    "n=1  #global variable\n",
    "def hi():\n",
    "    x=5  #local variable\n",
    "    print(x+n)  \n",
    "hi()\n",
    "#print(x)  # cannot accesss\n"
   ]
  },
  {
   "cell_type": "code",
   "execution_count": 26,
   "id": "b023c57e",
   "metadata": {},
   "outputs": [
    {
     "name": "stdout",
     "output_type": "stream",
     "text": [
      "2\n"
     ]
    }
   ],
   "source": [
    "class a1:\n",
    "    def __init__(self,a,b):\n",
    "        self.a=a\n",
    "        self.b=b\n",
    "    def add(self):\n",
    "        return self.a*self.b\n",
    "n=a1(1,2)\n",
    "print(n.add())"
   ]
  },
  {
   "cell_type": "code",
   "execution_count": 38,
   "id": "e8ea0b44",
   "metadata": {},
   "outputs": [
    {
     "name": "stdout",
     "output_type": "stream",
     "text": [
      "toyota ,2004 , 1248893473\n",
      "bugati ,2023 , 1248900003473\n",
      "cresta ,2014 , 1248593473\n",
      "toyota\n"
     ]
    }
   ],
   "source": [
    "class car:\n",
    "    def __init__(self,model,year,price):\n",
    "        self.model=model\n",
    "        self.year=year\n",
    "        self.price=price\n",
    "    def display(self):\n",
    "        print(f\"{self.model} ,{self.year} , {self.price}\")\n",
    "obj=car(\"toyota\",2004,1248893473)\n",
    "obj1=car(\"bugati\",2023,1248900003473)\n",
    "obj2=car(\"cresta\",2014,1248593473)\n",
    "obj.display()\n",
    "obj1.display()\n",
    "obj2.display()\n",
    "print(obj.model)"
   ]
  },
  {
   "cell_type": "code",
   "execution_count": null,
   "id": "3a0e8d2b",
   "metadata": {},
   "outputs": [
    {
     "name": "stdout",
     "output_type": "stream",
     "text": [
      "abin,19,25\n",
      "19\n"
     ]
    }
   ],
   "source": [
    "class student:\n",
    "    def __init__(self,name,age,mark):\n",
    "        self.name=name\n",
    "        self._age=age\n",
    "        self.__mark=mark\n",
    "    def result(self):\n",
    "        print(f\"{self.name},{self._age},{self.__mark}\")\n",
    "r=student(\"abin\",19,25)\n",
    "r.result()\n",
    "print(r._age)\n",
    "        "
   ]
  },
  {
   "cell_type": "code",
   "execution_count": null,
   "id": "0a5a69fd",
   "metadata": {},
   "outputs": [
    {
     "name": "stdout",
     "output_type": "stream",
     "text": [
      "4\n"
     ]
    }
   ],
   "source": [
    "from abc import ABC , abstractmethod\n",
    "class square(ABC):\n",
    "    @abstractmethod\n",
    "    def start(self,a,b):\n",
    "        pass\n",
    "    \n",
    "class square1(square):\n",
    "    def __init__(self,a):\n",
    "        self.a=a\n",
    "    def start(self):\n",
    "        return self.a*self.a\n",
    "    def peri(self):\n",
    "        return\n",
    "        \n",
    "s1=square1(2)\n",
    "print(s1.start())"
   ]
  },
  {
   "cell_type": "code",
   "execution_count": null,
   "id": "f2078d17",
   "metadata": {},
   "outputs": [
    {
     "name": "stdout",
     "output_type": "stream",
     "text": [
      "hohn 11000000 \n",
      "abin 2300000 python\n",
      "chinnu 70 11\n"
     ]
    }
   ],
   "source": [
    "class employee():\n",
    "\n",
    "    def __init__(self,name,salary):\n",
    "        self.name=name\n",
    "        self.salary=salary\n",
    "        \n",
    "    def show(self):\n",
    "        print(f\"{self.name} {self.salary} \")\n",
    "\n",
    "class developer(employee):    #inherits class employee\n",
    "\n",
    "    def __init__(self,name,salary,prgm):\n",
    "        super().__init__(name,salary)   # use super to call parent class constructor\n",
    "        self.prgm=prgm\n",
    "\n",
    "    def show(self):\n",
    "        print(f\"{self.name} {self.salary} {self.prgm}\")\n",
    "\n",
    "class manager(employee):    #inherits class employee\n",
    "\n",
    "    def __init__(self,name,salary,tsize):\n",
    "        super().__init__(name,salary)\n",
    "        self.tsize=tsize \n",
    "\n",
    "    def show(self):\n",
    "        print(f\"{self.name} {self.salary} {self.tsize}\")\n",
    "\n",
    "ob=employee(\"hohn\",11000000)\n",
    "ob.show()\n",
    "oj=developer(\"abin\",2300000,\"python\")\n",
    "oj.show()\n",
    "oj1=manager(\"chinnu\",70,11)\n",
    "oj1.show()\n",
    "\n",
    "\n",
    "    \n",
    "    \n",
    "\n"
   ]
  },
  {
   "cell_type": "code",
   "execution_count": null,
   "id": "0965f23c",
   "metadata": {},
   "outputs": [
    {
     "name": "stdout",
     "output_type": "stream",
     "text": [
      "5\n",
      "6\n"
     ]
    }
   ],
   "source": [
    "class Calculator:\n",
    "\n",
    "    def __init__(self, a, b):\n",
    "        self.a = a\n",
    "        self.b = b\n",
    "\n",
    "    def add(self):\n",
    "        result = self.a + self.b\n",
    "        return result\n",
    "    \n",
    "    def multiply(self):\n",
    "        result = self.a * self.b\n",
    "        return result\n",
    "    \n",
    "obj = Calculator(2, 3)\n",
    "print(obj.add())\n",
    "print(obj.multiply())\n",
    "\n",
    "\n",
    "\n"
   ]
  },
  {
   "cell_type": "code",
   "execution_count": null,
   "id": "3fe05d8a",
   "metadata": {},
   "outputs": [
    {
     "name": "stdout",
     "output_type": "stream",
     "text": [
      "('abin', 34424, 'It')\n"
     ]
    }
   ],
   "source": [
    "class Employe:\n",
    "\n",
    "    def __init__(self,name,salary,department):\n",
    "        self.name=name\n",
    "        self.salary=salary\n",
    "        self.department=department\n",
    "\n",
    "    def details(self):\n",
    "        return self.name,self.salary,self.department\n",
    "    \n",
    "c=Employe(\"abin\",35554,\"It\")\n",
    "print(c.details())\n",
    "\n"
   ]
  },
  {
   "cell_type": "code",
   "execution_count": null,
   "id": "cd100d26",
   "metadata": {},
   "outputs": [],
   "source": []
  }
 ],
 "metadata": {
  "kernelspec": {
   "display_name": "Python 3",
   "language": "python",
   "name": "python3"
  },
  "language_info": {
   "codemirror_mode": {
    "name": "ipython",
    "version": 3
   },
   "file_extension": ".py",
   "mimetype": "text/x-python",
   "name": "python",
   "nbconvert_exporter": "python",
   "pygments_lexer": "ipython3",
   "version": "3.13.7"
  }
 },
 "nbformat": 4,
 "nbformat_minor": 5
}
