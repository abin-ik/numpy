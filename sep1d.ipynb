{
 "cells": [
  {
   "cell_type": "markdown",
   "id": "7c9e5424",
   "metadata": {},
   "source": [
    "Given a list of strings, create a new list containing the length of each string."
   ]
  },
  {
   "cell_type": "code",
   "execution_count": 16,
   "id": "a7938bf8",
   "metadata": {},
   "outputs": [
    {
     "name": "stdout",
     "output_type": "stream",
     "text": [
      "Python\n",
      "is\n",
      "fun\n",
      "India\n",
      "[6, 2, 3, 5]\n"
     ]
    }
   ],
   "source": [
    "a=[\"Python is fun India\"]\n",
    "h=[]\n",
    "m=0\n",
    "for i in a:\n",
    "    b=i.split()\n",
    "    for j in b:\n",
    "        print(j)\n",
    "        for k in j:\n",
    "            m=m+1\n",
    "        h.append(m)\n",
    "        m=0\n",
    "print(h)"
   ]
  },
  {
   "cell_type": "code",
   "execution_count": null,
   "id": "a97e63c8",
   "metadata": {},
   "outputs": [],
   "source": []
  }
 ],
 "metadata": {
  "kernelspec": {
   "display_name": "Python 3",
   "language": "python",
   "name": "python3"
  },
  "language_info": {
   "codemirror_mode": {
    "name": "ipython",
    "version": 3
   },
   "file_extension": ".py",
   "mimetype": "text/x-python",
   "name": "python",
   "nbconvert_exporter": "python",
   "pygments_lexer": "ipython3",
   "version": "3.13.7"
  }
 },
 "nbformat": 4,
 "nbformat_minor": 5
}
