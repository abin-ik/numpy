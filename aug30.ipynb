{
 "cells": [
  {
   "cell_type": "markdown",
   "id": "1984c060",
   "metadata": {},
   "source": [
    "Count the number of vowels in a string."
   ]
  },
  {
   "cell_type": "code",
   "execution_count": null,
   "id": "10acc3c1",
   "metadata": {},
   "outputs": [
    {
     "name": "stdout",
     "output_type": "stream",
     "text": [
      "uysbs bshv qwuoqeo ooi \n",
      "a= 0\n",
      "e= 1\n",
      "i= 1\n",
      "o= 2\n",
      "u= 11\n",
      "8\n"
     ]
    }
   ],
   "source": [
    "n=str(input(\"enter the string\"))\n",
    "print(n)\n",
    "\n",
    "s=h=o=e=a=0\n",
    "\n",
    "for i in range(len(n)):\n",
    "    if n[i]=='a'or n[i]=='e'or n[i]=='i'or n[i]=='o' or n[i]=='u':\n",
    "        s=s+1\n",
    "        if n[i]=='a':\n",
    "            a=a+1\n",
    "            \n",
    "        elif n[i]=='e':\n",
    "            e=e+1\n",
    "          \n",
    "        elif n[i]=='i':\n",
    "            h=h+1\n",
    "            \n",
    "        elif n[i]=='o':\n",
    "            o=e+1\n",
    "            \n",
    "        elif n[i]=='u':\n",
    "            u=u+1\n",
    "\n",
    "\n",
    "print(\"a=\",a)\n",
    "print(\"e=\",e)\n",
    "print(\"i=\",h)\n",
    "print(\"o=\",o)\n",
    "print(\"u=\",u)\n",
    "print(s)\n"
   ]
  },
  {
   "cell_type": "code",
   "execution_count": null,
   "id": "efe3291a",
   "metadata": {},
   "outputs": [],
   "source": []
  },
  {
   "cell_type": "code",
   "execution_count": null,
   "id": "f135f0d3",
   "metadata": {},
   "outputs": [],
   "source": []
  }
 ],
 "metadata": {
  "kernelspec": {
   "display_name": "Python 3",
   "language": "python",
   "name": "python3"
  },
  "language_info": {
   "codemirror_mode": {
    "name": "ipython",
    "version": 3
   },
   "file_extension": ".py",
   "mimetype": "text/x-python",
   "name": "python",
   "nbconvert_exporter": "python",
   "pygments_lexer": "ipython3",
   "version": "3.13.7"
  }
 },
 "nbformat": 4,
 "nbformat_minor": 5
}
