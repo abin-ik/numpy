{
 "cells": [
  {
   "cell_type": "markdown",
   "id": "1c4de0ef",
   "metadata": {},
   "source": [
    "create a list of all words that start with a capital letter.\n"
   ]
  },
  {
   "cell_type": "code",
   "execution_count": 26,
   "id": "adb67ac2",
   "metadata": {},
   "outputs": [
    {
     "name": "stdout",
     "output_type": "stream",
     "text": [
      "Python is India\n",
      "['Python', 'is', 'India']\n",
      "Python\n",
      "India\n"
     ]
    }
   ],
   "source": [
    "a=[\"Python is India\"]\n",
    "for i in a:\n",
    "    print(i)\n",
    "    m=i.split()\n",
    "    print(m)\n",
    "    for x in m:\n",
    "        for h in x:\n",
    "            h1=h[0].upper()\n",
    "            if h1==h[0]:\n",
    "                print(x)\n"
   ]
  },
  {
   "cell_type": "code",
   "execution_count": null,
   "id": "a7308f7c",
   "metadata": {},
   "outputs": [],
   "source": []
  }
 ],
 "metadata": {
  "kernelspec": {
   "display_name": "Python 3",
   "language": "python",
   "name": "python3"
  },
  "language_info": {
   "codemirror_mode": {
    "name": "ipython",
    "version": 3
   },
   "file_extension": ".py",
   "mimetype": "text/x-python",
   "name": "python",
   "nbconvert_exporter": "python",
   "pygments_lexer": "ipython3",
   "version": "3.13.7"
  }
 },
 "nbformat": 4,
 "nbformat_minor": 5
}
