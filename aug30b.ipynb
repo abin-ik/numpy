{
 "cells": [
  {
   "cell_type": "markdown",
   "id": "9aced24c",
   "metadata": {},
   "source": [
    "Write a program to remove all spaces from a string."
   ]
  },
  {
   "cell_type": "code",
   "execution_count": 15,
   "id": "9e4a91b2",
   "metadata": {},
   "outputs": [
    {
     "name": "stdout",
     "output_type": "stream",
     "text": [
      "i   love       youu   \n",
      "i love youu "
     ]
    }
   ],
   "source": [
    "n=str(input(\"enter the string\"))\n",
    "print(n)\n",
    "for i in range(len(n)):\n",
    "    if n[i]==\" \":\n",
    "        if n[i]==c:\n",
    "            continue\n",
    "        else:\n",
    "            print(n[i],end=\"\")\n",
    "    else:\n",
    "        print(n[i],end=\"\")\n",
    "    c=n[i]    "
   ]
  },
  {
   "cell_type": "code",
   "execution_count": null,
   "id": "6a085e6d",
   "metadata": {},
   "outputs": [],
   "source": []
  }
 ],
 "metadata": {
  "kernelspec": {
   "display_name": "Python 3",
   "language": "python",
   "name": "python3"
  },
  "language_info": {
   "codemirror_mode": {
    "name": "ipython",
    "version": 3
   },
   "file_extension": ".py",
   "mimetype": "text/x-python",
   "name": "python",
   "nbconvert_exporter": "python",
   "pygments_lexer": "ipython3",
   "version": "3.13.7"
  }
 },
 "nbformat": 4,
 "nbformat_minor": 5
}
