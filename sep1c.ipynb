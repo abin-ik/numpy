{
 "cells": [
  {
   "cell_type": "code",
   "execution_count": 8,
   "id": "9fde1c68",
   "metadata": {},
   "outputs": [
    {
     "name": "stdout",
     "output_type": "stream",
     "text": [
      "['Python', 'India']\n"
     ]
    }
   ],
   "source": [
    "a=[\"Python is fun n India\"]\n",
    "x=[j for i in a for j in i.split() for k in j if k[0]==k[0].upper()]\n",
    "print(x)"
   ]
  },
  {
   "cell_type": "markdown",
   "id": "1034d1a6",
   "metadata": {},
   "source": [
    "\n"
   ]
  }
 ],
 "metadata": {
  "kernelspec": {
   "display_name": "Python 3",
   "language": "python",
   "name": "python3"
  },
  "language_info": {
   "codemirror_mode": {
    "name": "ipython",
    "version": 3
   },
   "file_extension": ".py",
   "mimetype": "text/x-python",
   "name": "python",
   "nbconvert_exporter": "python",
   "pygments_lexer": "ipython3",
   "version": "3.13.7"
  }
 },
 "nbformat": 4,
 "nbformat_minor": 5
}
