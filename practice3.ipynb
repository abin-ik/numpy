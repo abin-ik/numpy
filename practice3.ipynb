{
 "cells": [
  {
   "cell_type": "code",
   "execution_count": null,
   "id": "b6816685",
   "metadata": {},
   "outputs": [],
   "source": [
    "a=str(input(\"enter a number\"))\n",
    "count=0\n",
    "n=[]\n",
    "n2=[]\n",
    "n3={}\n",
    "for i in range(len(a)):\n",
    "    if a[i]==' ':\n",
    "        n2.append(count)\n",
    "        word=''.join(n)\n",
    "        n3[word]=count\n",
    "        n=[]\n",
    "        count=0\n",
    "       \n",
    "    else:\n",
    "        n.append(a[i])\n",
    "        count=count+1\n",
    "n2.append(count)\n",
    "word=''.join(n)\n",
    "n3[word]=count\n",
    "l=\"\"\n",
    "m=0\n",
    "for word,count in n3.items():\n",
    "    if count>m:\n",
    "        m=count\n",
    "        l=word\n",
    "print(a)       \n",
    "print(l,m)"
   ]
  }
 ],
 "metadata": {
  "language_info": {
   "name": "python"
  }
 },
 "nbformat": 4,
 "nbformat_minor": 5
}
