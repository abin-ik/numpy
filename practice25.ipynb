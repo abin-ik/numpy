{
 "cells": [
  {
   "cell_type": "markdown",
   "id": "96e172d9",
   "metadata": {},
   "source": [
    "Write a Python program to create an array of integers and print the first and last elements"
   ]
  },
  {
   "cell_type": "code",
   "execution_count": 12,
   "id": "d73103f0",
   "metadata": {},
   "outputs": [
    {
     "name": "stdout",
     "output_type": "stream",
     "text": [
      "[1, 2, 3, 4]\n",
      "1\n",
      "4\n"
     ]
    }
   ],
   "source": [
    "a=int(input(\"enter the number of elemnts:\"))\n",
    "ar=[]\n",
    "for i in range(a):\n",
    "    ar.append(int(input(\"enter a number:\")))\n",
    "print(ar)\n",
    "print(ar[0])\n",
    "print(ar[i])\n",
    "\n",
    "\n"
   ]
  },
  {
   "cell_type": "markdown",
   "id": "aa9960aa",
   "metadata": {},
   "source": [
    "How do you find the length of an array in Python"
   ]
  },
  {
   "cell_type": "code",
   "execution_count": 13,
   "id": "3ee5069b",
   "metadata": {},
   "outputs": [
    {
     "name": "stdout",
     "output_type": "stream",
     "text": [
      "4\n"
     ]
    }
   ],
   "source": [
    "print(len(ar))\n"
   ]
  },
  {
   "cell_type": "markdown",
   "id": "0d9e586b",
   "metadata": {},
   "source": [
    "Write a program to add an element at the end of an array"
   ]
  },
  {
   "cell_type": "code",
   "execution_count": 14,
   "id": "373b3808",
   "metadata": {},
   "outputs": [
    {
     "data": {
      "text/plain": [
       "[1, 2, 3, 4, 3]"
      ]
     },
     "execution_count": 14,
     "metadata": {},
     "output_type": "execute_result"
    }
   ],
   "source": [
    "ar.append(3)\n",
    "ar"
   ]
  },
  {
   "cell_type": "markdown",
   "id": "4c3dad44",
   "metadata": {},
   "source": [
    "Remove the last element from an array.\n"
   ]
  },
  {
   "cell_type": "code",
   "execution_count": 15,
   "id": "8143ecaa",
   "metadata": {},
   "outputs": [
    {
     "data": {
      "text/plain": [
       "[1, 2, 3, 4]"
      ]
     },
     "execution_count": 15,
     "metadata": {},
     "output_type": "execute_result"
    }
   ],
   "source": [
    "ar.pop()\n",
    "ar"
   ]
  },
  {
   "cell_type": "markdown",
   "id": "498daf6d",
   "metadata": {},
   "source": [
    "Remove an element by its value"
   ]
  },
  {
   "cell_type": "code",
   "execution_count": 16,
   "id": "54763c54",
   "metadata": {},
   "outputs": [
    {
     "data": {
      "text/plain": [
       "[1, 3, 4]"
      ]
     },
     "execution_count": 16,
     "metadata": {},
     "output_type": "execute_result"
    }
   ],
   "source": [
    "ar.remove(2)\n",
    "ar"
   ]
  },
  {
   "cell_type": "markdown",
   "id": "19e649ca",
   "metadata": {},
   "source": [
    "Remove an element by its index"
   ]
  },
  {
   "cell_type": "code",
   "execution_count": 17,
   "id": "53d8c3c2",
   "metadata": {},
   "outputs": [
    {
     "data": {
      "text/plain": [
       "[1, 4]"
      ]
     },
     "execution_count": 17,
     "metadata": {},
     "output_type": "execute_result"
    }
   ],
   "source": [
    "ar.pop(1)\n",
    "ar"
   ]
  },
  {
   "cell_type": "markdown",
   "id": "aead7386",
   "metadata": {},
   "source": [
    "Reverse an array"
   ]
  },
  {
   "cell_type": "code",
   "execution_count": 19,
   "id": "3078dd0c",
   "metadata": {},
   "outputs": [
    {
     "data": {
      "text/plain": [
       "[4, 1]"
      ]
     },
     "execution_count": 19,
     "metadata": {},
     "output_type": "execute_result"
    }
   ],
   "source": [
    "ar.reverse()\n",
    "ar"
   ]
  },
  {
   "cell_type": "markdown",
   "id": "2fdf2364",
   "metadata": {},
   "source": [
    "Join two arrays together."
   ]
  },
  {
   "cell_type": "code",
   "execution_count": 21,
   "id": "4989cd0c",
   "metadata": {},
   "outputs": [
    {
     "name": "stdout",
     "output_type": "stream",
     "text": [
      "[1, 2, 3, 4, 3, 4, 5, 6]\n"
     ]
    }
   ],
   "source": [
    "a=([1,2,3,4])\n",
    "b=([3,4,5,6])\n",
    "print(a+b)"
   ]
  },
  {
   "cell_type": "markdown",
   "id": "aad651f6",
   "metadata": {},
   "source": []
  },
  {
   "cell_type": "code",
   "execution_count": 42,
   "id": "1b02b4de",
   "metadata": {},
   "outputs": [
    {
     "name": "stdout",
     "output_type": "stream",
     "text": [
      "not sorted\n"
     ]
    }
   ],
   "source": [
    "b=([3,4,8,6])\n",
    "\n",
    "if b==sorted(b):\n",
    "    print(\"sorted\")\n",
    "else:\n",
    "    print(\"not sorted\")"
   ]
  },
  {
   "cell_type": "markdown",
   "id": "cdc3012a",
   "metadata": {},
   "source": [
    "create an array of 10 evenly spaced between 5 and 15\n"
   ]
  },
  {
   "cell_type": "code",
   "execution_count": null,
   "id": "4949f60b",
   "metadata": {},
   "outputs": [],
   "source": []
  }
 ],
 "metadata": {
  "kernelspec": {
   "display_name": "Python 3",
   "language": "python",
   "name": "python3"
  },
  "language_info": {
   "codemirror_mode": {
    "name": "ipython",
    "version": 3
   },
   "file_extension": ".py",
   "mimetype": "text/x-python",
   "name": "python",
   "nbconvert_exporter": "python",
   "pygments_lexer": "ipython3",
   "version": "3.13.7"
  }
 },
 "nbformat": 4,
 "nbformat_minor": 5
}
