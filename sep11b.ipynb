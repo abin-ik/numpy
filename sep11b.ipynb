{
 "cells": [
  {
   "cell_type": "code",
   "execution_count": 9,
   "id": "90d48b91",
   "metadata": {},
   "outputs": [
    {
     "name": "stdout",
     "output_type": "stream",
     "text": [
      "{1, 93, 6, 31}\n",
      "[1, 6, 31, 2, 7, 0, 9]\n"
     ]
    }
   ],
   "source": [
    "l=[1,6,31,2,7,93,9]\n",
    "h=0\n",
    "m=set()\n",
    "for i in range(len(l)):\n",
    "    \n",
    "    if l[i]>h:\n",
    "        h=l[i]\n",
    "        m.add(h)\n",
    "    else:\n",
    "        continue\n",
    "print(m)\n",
    "x=l[i-1]\n",
    "for i in range(len(l)):\n",
    "    \n",
    "    if x==l[i]:\n",
    "        l[i]=0\n",
    "print(l)"
   ]
  },
  {
   "cell_type": "code",
   "execution_count": null,
   "id": "9cb48534",
   "metadata": {},
   "outputs": [],
   "source": [
    "l=[1,3,6,5,2,1,6,7,3,2,8,9,2,1,3,2]\n"
   ]
  },
  {
   "cell_type": "code",
   "execution_count": null,
   "id": "1d4ae266",
   "metadata": {},
   "outputs": [
    {
     "name": "stdout",
     "output_type": "stream",
     "text": [
      "{81, 1, 6, 31}\n",
      "31\n",
      "[1, 6, 0, 2, 7, 9, 81]\n"
     ]
    }
   ],
   "source": [
    "l=[1,6,31,2,7,9,81]\n",
    "h=0\n",
    "m=set()\n",
    "for i in l:\n",
    "    \n",
    "    if i>h:\n",
    "        h=i\n",
    "        m.add(h)\n",
    "    else:\n",
    "        continue\n",
    "print(m)\n",
    "for j in m:\n",
    "    x=j\n",
    "\n",
    "print(x)\n",
    "for i in range(len(l)):\n",
    "    \n",
    "    if x==l[i]:\n",
    "        l[i]=0\n",
    "print(l)"
   ]
  },
  {
   "cell_type": "code",
   "execution_count": 58,
   "id": "f916fabd",
   "metadata": {},
   "outputs": [
    {
     "name": "stdout",
     "output_type": "stream",
     "text": [
      "[1, 6, 0, 624, 7, 93]\n"
     ]
    }
   ],
   "source": [
    "l=[1,6,391,624,7,93]\n",
    "l2=l.copy()\n",
    "h=0\n",
    "r=0\n",
    "for i in range(len(l)):\n",
    "    \n",
    "    if l[i]>h:\n",
    "        h=l[i]\n",
    "    else:\n",
    "        continue\n",
    "l.remove(h)\n",
    "for i in range(len(l)):\n",
    "    \n",
    "    if l[i]>r:\n",
    "        r=l[i]\n",
    "    else:\n",
    "        continue\n",
    "for i in range(len(l2)):\n",
    "    if r==l2[i]:\n",
    "        l2[i]=0\n",
    "print(l2)"
   ]
  },
  {
   "cell_type": "code",
   "execution_count": 89,
   "id": "daf59dc7",
   "metadata": {},
   "outputs": [
    {
     "name": "stdout",
     "output_type": "stream",
     "text": [
      "{1: 1, 3: 3, 5: 1, 7: 2, 21: 1, 2: 2}\n"
     ]
    }
   ],
   "source": [
    "f=[1,3,5,7,7,3,3,21,2,2]\n",
    "d={}\n",
    "count=1\n",
    "for i in f:\n",
    "    if i in d:\n",
    "        d[i]=d[i]+1\n",
    "    else:\n",
    "        d[i]=1\n",
    "        \n",
    "        \n",
    "    \n",
    "    \n",
    "\n",
    "print(d)\n",
    "\n"
   ]
  },
  {
   "cell_type": "code",
   "execution_count": null,
   "id": "ccc74142",
   "metadata": {},
   "outputs": [],
   "source": []
  }
 ],
 "metadata": {
  "kernelspec": {
   "display_name": "Python 3",
   "language": "python",
   "name": "python3"
  },
  "language_info": {
   "codemirror_mode": {
    "name": "ipython",
    "version": 3
   },
   "file_extension": ".py",
   "mimetype": "text/x-python",
   "name": "python",
   "nbconvert_exporter": "python",
   "pygments_lexer": "ipython3",
   "version": "3.13.7"
  }
 },
 "nbformat": 4,
 "nbformat_minor": 5
}
