{
 "cells": [
  {
   "cell_type": "markdown",
   "id": "6704abbf",
   "metadata": {},
   "source": [
    "create a 1 d array containing all even numbers between 10 to 100"
   ]
  },
  {
   "cell_type": "code",
   "execution_count": null,
   "id": "d1a56079",
   "metadata": {},
   "outputs": [
    {
     "data": {
      "text/plain": [
       "array([ 10,  12,  14,  16,  18,  20,  22,  24,  26,  28,  30,  32,  34,\n",
       "        36,  38,  40,  42,  44,  46,  48,  50,  52,  54,  56,  58,  60,\n",
       "        62,  64,  66,  68,  70,  72,  74,  76,  78,  80,  82,  84,  86,\n",
       "        88,  90,  92,  94,  96,  98, 100])"
      ]
     },
     "execution_count": 6,
     "metadata": {},
     "output_type": "execute_result"
    }
   ],
   "source": [
    "import numpy as np\n",
    "a=np.arange(10,101,2)\n",
    "a.3"
   ]
  },
  {
   "cell_type": "markdown",
   "id": "08e91666",
   "metadata": {},
   "source": [
    "create a 5*5 array filled with multiples of 3"
   ]
  },
  {
   "cell_type": "code",
   "execution_count": 53,
   "id": "0a386a9a",
   "metadata": {},
   "outputs": [
    {
     "data": {
      "text/plain": [
       "array([[ 3,  6,  9, 12, 15],\n",
       "       [18, 21, 24, 27, 30],\n",
       "       [33, 36, 39, 42, 45],\n",
       "       [48, 51, 54, 57, 60],\n",
       "       [63, 66, 69, 72, 75]])"
      ]
     },
     "execution_count": 53,
     "metadata": {},
     "output_type": "execute_result"
    }
   ],
   "source": [
    "x=np.arange(3,3*25+1,3).reshape(5,5)\n",
    "x\n"
   ]
  },
  {
   "cell_type": "markdown",
   "id": "1319f071",
   "metadata": {},
   "source": [
    "generate 4*4 matrix where the diagonal values are 1 and rest are zero"
   ]
  },
  {
   "cell_type": "code",
   "execution_count": 56,
   "id": "66af50b0",
   "metadata": {},
   "outputs": [
    {
     "data": {
      "text/plain": [
       "array([[1., 0., 0., 0.],\n",
       "       [0., 1., 0., 0.],\n",
       "       [0., 0., 1., 0.],\n",
       "       [0., 0., 0., 1.]])"
      ]
     },
     "execution_count": 56,
     "metadata": {},
     "output_type": "execute_result"
    }
   ],
   "source": [
    "v=np.eye(4)\n",
    "v"
   ]
  },
  {
   "cell_type": "markdown",
   "id": "686064cc",
   "metadata": {},
   "source": [
    "create a 3d array of shape(2,3,4) filled with random integers from zero to 20"
   ]
  },
  {
   "cell_type": "code",
   "execution_count": 69,
   "id": "377beea9",
   "metadata": {},
   "outputs": [
    {
     "data": {
      "text/plain": [
       "array([[[20,  8,  4, 13],\n",
       "        [16, 29, 27,  6],\n",
       "        [11,  4, 17, 15]],\n",
       "\n",
       "       [[15,  7, 20, 20],\n",
       "        [17, 14,  0, 18],\n",
       "        [15, 17,  2, 14]]], dtype=int32)"
      ]
     },
     "execution_count": 69,
     "metadata": {},
     "output_type": "execute_result"
    }
   ],
   "source": [
    "s=np.random.randint(0,30,size=(2,3,4))\n",
    "#s.reshape(2,3,4)\n",
    "s"
   ]
  },
  {
   "cell_type": "markdown",
   "id": "f2d972d9",
   "metadata": {},
   "source": [
    "reshape 1 d array of 30 elements into shape (5,2,3)and print its shape"
   ]
  },
  {
   "cell_type": "code",
   "execution_count": 72,
   "id": "dfe843a2",
   "metadata": {},
   "outputs": [
    {
     "data": {
      "text/plain": [
       "array([[[ 0,  1,  2],\n",
       "        [ 3,  4,  5]],\n",
       "\n",
       "       [[ 6,  7,  8],\n",
       "        [ 9, 10, 11]],\n",
       "\n",
       "       [[12, 13, 14],\n",
       "        [15, 16, 17]],\n",
       "\n",
       "       [[18, 19, 20],\n",
       "        [21, 22, 23]],\n",
       "\n",
       "       [[24, 25, 26],\n",
       "        [27, 28, 29]]])"
      ]
     },
     "execution_count": 72,
     "metadata": {},
     "output_type": "execute_result"
    }
   ],
   "source": [
    "s=np.arange(0,30).reshape(5,2,3)\n",
    "s"
   ]
  },
  {
   "cell_type": "markdown",
   "id": "73369c95",
   "metadata": {},
   "source": [
    "create an array of 10 evenly spaced between 5 and 15"
   ]
  },
  {
   "cell_type": "code",
   "execution_count": 75,
   "id": "089a543b",
   "metadata": {},
   "outputs": [
    {
     "data": {
      "text/plain": [
       "array([ 5.        ,  6.11111111,  7.22222222,  8.33333333,  9.44444444,\n",
       "       10.55555556, 11.66666667, 12.77777778, 13.88888889, 15.        ])"
      ]
     },
     "execution_count": 75,
     "metadata": {},
     "output_type": "execute_result"
    }
   ],
   "source": [
    "x=np.linspace(5,15,10)\n",
    "x"
   ]
  },
  {
   "cell_type": "markdown",
   "id": "5c8e9ce8",
   "metadata": {},
   "source": [
    "input a list of number find the second most highet number in a list"
   ]
  },
  {
   "cell_type": "code",
   "execution_count": null,
   "id": "d987e815",
   "metadata": {},
   "outputs": [
    {
     "name": "stdout",
     "output_type": "stream",
     "text": [
      "['1', '8', '2']\n",
      "2\n"
     ]
    }
   ],
   "source": [
    "n=int(input(\"enter the number of elements in a ,ist\"))\n",
    "h=[]\n",
    "for i in range(n):\n",
    "    a=(input())   \n",
    "    h.append(a)\n",
    "print(h)\n",
    "h.sort()\n",
    "print(h[-1])"
   ]
  },
  {
   "cell_type": "code",
   "execution_count": null,
   "id": "fc48f770",
   "metadata": {},
   "outputs": [
    {
     "name": "stdout",
     "output_type": "stream",
     "text": [
      "['2', '2']\n"
     ]
    },
    {
     "ename": "NameError",
     "evalue": "name 'n' is not defined",
     "output_type": "error",
     "traceback": [
      "\u001b[31m---------------------------------------------------------------------------\u001b[39m",
      "\u001b[31mNameError\u001b[39m                                 Traceback (most recent call last)",
      "\u001b[36mCell\u001b[39m\u001b[36m \u001b[39m\u001b[32mIn[1]\u001b[39m\u001b[32m, line 4\u001b[39m\n\u001b[32m      2\u001b[39m h1.sort()\n\u001b[32m      3\u001b[39m \u001b[38;5;28mprint\u001b[39m(h1)\n\u001b[32m----> \u001b[39m\u001b[32m4\u001b[39m \u001b[38;5;28mprint\u001b[39m(h1[\u001b[43mn\u001b[49m-\u001b[32m2\u001b[39m])\n",
      "\u001b[31mNameError\u001b[39m: name 'n' is not defined"
     ]
    }
   ],
   "source": [
    "h1=list(input())\n",
    "h1.sort()\n",
    "print(h1)\n",
    "print(h1[-2])"
   ]
  },
  {
   "cell_type": "code",
   "execution_count": 15,
   "id": "1e3258a3",
   "metadata": {},
   "outputs": [
    {
     "name": "stdout",
     "output_type": "stream",
     "text": [
      "8\n"
     ]
    }
   ],
   "source": [
    "n=int(input(\"enter the number of elements in a ,ist\"))\n",
    "h=[]\n",
    "for i in range(n):\n",
    "    a=int(input())   \n",
    "    h.append(a)\n",
    "max=0 \n",
    "ll=len(h)   \n",
    "for i in range(ll):\n",
    "    if h[i] > max:\n",
    "        max=h[i]\n",
    "print(max)\n",
    "\n",
    "\n"
   ]
  },
  {
   "cell_type": "code",
   "execution_count": null,
   "id": "e1fa36d2",
   "metadata": {},
   "outputs": [],
   "source": []
  }
 ],
 "metadata": {
  "kernelspec": {
   "display_name": "Python 3",
   "language": "python",
   "name": "python3"
  },
  "language_info": {
   "codemirror_mode": {
    "name": "ipython",
    "version": 3
   },
   "file_extension": ".py",
   "mimetype": "text/x-python",
   "name": "python",
   "nbconvert_exporter": "python",
   "pygments_lexer": "ipython3",
   "version": "3.13.7"
  }
 },
 "nbformat": 4,
 "nbformat_minor": 5
}
