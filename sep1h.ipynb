{
 "cells": [
  {
   "cell_type": "markdown",
   "id": "c3c996e5",
   "metadata": {},
   "source": [
    "From [\"apple\", \"banana\", \"grape\"], create a list of all consonants (skip vowels)."
   ]
  },
  {
   "cell_type": "code",
   "execution_count": 3,
   "id": "b73eced5",
   "metadata": {},
   "outputs": [
    {
     "name": "stdout",
     "output_type": "stream",
     "text": [
      "['dry']\n"
     ]
    }
   ],
   "source": [
    "a=[\"apple\",\"orange\",\"dry\"]\n",
    "x=[i for i in a if all(j not in \"aeiou\" for j in i)]\n",
    "print(x)"
   ]
  },
  {
   "cell_type": "code",
   "execution_count": null,
   "id": "a9c3dbdd",
   "metadata": {},
   "outputs": [],
   "source": []
  }
 ],
 "metadata": {
  "kernelspec": {
   "display_name": "Python 3",
   "language": "python",
   "name": "python3"
  },
  "language_info": {
   "codemirror_mode": {
    "name": "ipython",
    "version": 3
   },
   "file_extension": ".py",
   "mimetype": "text/x-python",
   "name": "python",
   "nbconvert_exporter": "python",
   "pygments_lexer": "ipython3",
   "version": "3.13.7"
  }
 },
 "nbformat": 4,
 "nbformat_minor": 5
}
