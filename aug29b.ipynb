{
 "cells": [
  {
   "cell_type": "markdown",
   "id": "dcffe3ee",
   "metadata": {},
   "source": [
    "12345\n",
    "2345\n",
    "345\n",
    "45\n",
    "5"
   ]
  },
  {
   "cell_type": "code",
   "execution_count": 1,
   "id": "1386b1f2",
   "metadata": {},
   "outputs": [
    {
     "name": "stdout",
     "output_type": "stream",
     "text": [
      "12345\n",
      "2345\n",
      "345\n",
      "45\n",
      "5\n"
     ]
    }
   ],
   "source": [
    "n=int(input(\"enter a number\"))\n",
    "for i in range(1,n+1):\n",
    "    for x in range(i,n+1):\n",
    "        print(x,end=\"\")\n",
    "    print()\n"
   ]
  },
  {
   "cell_type": "code",
   "execution_count": 2,
   "id": "b6c4a48e",
   "metadata": {},
   "outputs": [
    {
     "ename": "NameError",
     "evalue": "name 'a' is not defined",
     "output_type": "error",
     "traceback": [
      "\u001b[31m---------------------------------------------------------------------------\u001b[39m",
      "\u001b[31mNameError\u001b[39m                                 Traceback (most recent call last)",
      "\u001b[36mCell\u001b[39m\u001b[36m \u001b[39m\u001b[32mIn[2]\u001b[39m\u001b[32m, line 1\u001b[39m\n\u001b[32m----> \u001b[39m\u001b[32m1\u001b[39m \u001b[38;5;28;01mfor\u001b[39;00m i \u001b[38;5;129;01min\u001b[39;00m \u001b[38;5;28mrange\u001b[39m(\u001b[43ma\u001b[49m,z):\n\u001b[32m      2\u001b[39m     \u001b[38;5;28mprint\u001b[39m(i)\n",
      "\u001b[31mNameError\u001b[39m: name 'a' is not defined"
     ]
    }
   ],
   "source": [
    "for i in range(a,z):\n",
    "    print(i)"
   ]
  },
  {
   "cell_type": "code",
   "execution_count": 22,
   "id": "65827098",
   "metadata": {},
   "outputs": [
    {
     "name": "stdout",
     "output_type": "stream",
     "text": [
      "['s', 'v', 'f', 'r']\n",
      "s\n",
      "vv\n",
      "fff\n",
      "rrrr\n"
     ]
    }
   ],
   "source": [
    "n=int(input(\"enter the no of words in list\"))\n",
    "l=[]\n",
    "for i in range(n):\n",
    "    b=input(\"enter the words\")\n",
    "    l.append(b)\n",
    "print(l)\n",
    "\n",
    "for x in range(1,len(l)+1):\n",
    "    print((l[x-1])*x)"
   ]
  },
  {
   "cell_type": "code",
   "execution_count": 37,
   "id": "d3767351",
   "metadata": {},
   "outputs": [
    {
     "name": "stdout",
     "output_type": "stream",
     "text": [
      "     1234\n",
      "    12345\n",
      "   123456\n",
      "  1234567\n",
      " 12345678\n"
     ]
    }
   ],
   "source": [
    "n=int(input(\"enter the numbers\"))\n",
    "a=\"*\"\n",
    "b=\" \"\n",
    "for i in range(n):\n",
    "    print((b*(n-i)),end='')\n",
    "    for x in range(1,n+i):\n",
    "        \n",
    "        print(x,end=\"\")\n",
    "    print()    "
   ]
  },
  {
   "cell_type": "code",
   "execution_count": null,
   "id": "f1e70fca",
   "metadata": {},
   "outputs": [],
   "source": []
  }
 ],
 "metadata": {
  "kernelspec": {
   "display_name": "Python 3",
   "language": "python",
   "name": "python3"
  },
  "language_info": {
   "codemirror_mode": {
    "name": "ipython",
    "version": 3
   },
   "file_extension": ".py",
   "mimetype": "text/x-python",
   "name": "python",
   "nbconvert_exporter": "python",
   "pygments_lexer": "ipython3",
   "version": "3.13.7"
  }
 },
 "nbformat": 4,
 "nbformat_minor": 5
}
