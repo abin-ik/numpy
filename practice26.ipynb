{
 "cells": [
  {
   "cell_type": "markdown",
   "id": "3cbca992",
   "metadata": {},
   "source": [
    "write a program which takes a sentece and returns the longest word"
   ]
  },
  {
   "cell_type": "code",
   "execution_count": 64,
   "id": "7f886e3c",
   "metadata": {},
   "outputs": [
    {
     "name": "stdout",
     "output_type": "stream",
     "text": [
      "ksjh skhkshk fkjhsk s\n",
      "skhkshk 7\n"
     ]
    }
   ],
   "source": [
    "\n",
    "a=str(input(\"enter a number\"))\n",
    "count=0\n",
    "n=[]\n",
    "n2=[]\n",
    "n3={}\n",
    "for i in range(len(a)):\n",
    "    if a[i]==' ':\n",
    "        n2.append(count)\n",
    "        word=''.join(n)\n",
    "        n3[word]=count\n",
    "        n=[]\n",
    "        count=0\n",
    "       \n",
    "    else:\n",
    "        n.append(a[i])\n",
    "        count=count+1\n",
    "n2.append(count)\n",
    "word=''.join(n)\n",
    "n3[word]=count\n",
    "l=\"\"\n",
    "m=0\n",
    "for word,count in n3.items():\n",
    "    if count>m:\n",
    "        m=count\n",
    "        l=word\n",
    "print(a)       \n",
    "print(l,m)\n",
    "\n"
   ]
  },
  {
   "cell_type": "code",
   "execution_count": null,
   "id": "d8311583",
   "metadata": {},
   "outputs": [],
   "source": []
  }
 ],
 "metadata": {
  "kernelspec": {
   "display_name": "Python 3",
   "language": "python",
   "name": "python3"
  },
  "language_info": {
   "codemirror_mode": {
    "name": "ipython",
    "version": 3
   },
   "file_extension": ".py",
   "mimetype": "text/x-python",
   "name": "python",
   "nbconvert_exporter": "python",
   "pygments_lexer": "ipython3",
   "version": "3.13.7"
  }
 },
 "nbformat": 4,
 "nbformat_minor": 5
}
