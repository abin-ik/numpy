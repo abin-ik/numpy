{
 "cells": [
  {
   "cell_type": "code",
   "execution_count": 37,
   "id": "8a46d03f",
   "metadata": {},
   "outputs": [],
   "source": [
    "class person:\n",
    "    def __init__(self,name,blood):\n",
    "        self.name=name\n",
    "        self.__blood=blood # private variable\n",
    "    def get_name(person):\n",
    "        return person.name,person.__blood\n",
    "p=person(\"john\",\"a+\")\n",
    "name=p.get_name()"
   ]
  },
  {
   "cell_type": "code",
   "execution_count": 38,
   "id": "78e7e89b",
   "metadata": {},
   "outputs": [
    {
     "data": {
      "text/plain": [
       "['__class__',\n",
       " '__delattr__',\n",
       " '__dict__',\n",
       " '__dir__',\n",
       " '__doc__',\n",
       " '__eq__',\n",
       " '__firstlineno__',\n",
       " '__format__',\n",
       " '__ge__',\n",
       " '__getattribute__',\n",
       " '__getstate__',\n",
       " '__gt__',\n",
       " '__hash__',\n",
       " '__init__',\n",
       " '__init_subclass__',\n",
       " '__le__',\n",
       " '__lt__',\n",
       " '__module__',\n",
       " '__ne__',\n",
       " '__new__',\n",
       " '__reduce__',\n",
       " '__reduce_ex__',\n",
       " '__repr__',\n",
       " '__setattr__',\n",
       " '__sizeof__',\n",
       " '__static_attributes__',\n",
       " '__str__',\n",
       " '__subclasshook__',\n",
       " '__weakref__',\n",
       " '_person__blood',\n",
       " 'get_name',\n",
       " 'name']"
      ]
     },
     "execution_count": 38,
     "metadata": {},
     "output_type": "execute_result"
    }
   ],
   "source": [
    "dir(p)"
   ]
  },
  {
   "cell_type": "code",
   "execution_count": 39,
   "id": "46cf6af9",
   "metadata": {},
   "outputs": [],
   "source": [
    "class person:\n",
    "    def __init__(self,name,blood):\n",
    "        self.name=name\n",
    "        self.__blood=blood # private variable\n",
    "    def get_name(person):\n",
    "        return person.name,person._person__blood\n",
    "p=person(\"john\",\"a+\")\n",
    "name=p.get_name()"
   ]
  },
  {
   "cell_type": "code",
   "execution_count": 77,
   "id": "50e161b2",
   "metadata": {},
   "outputs": [
    {
     "name": "stdout",
     "output_type": "stream",
     "text": [
      "john\n",
      "24\n",
      "abin\n",
      "age cannot be negative\n"
     ]
    }
   ],
   "source": [
    "class person:\n",
    "    def __init__(self,name,age):\n",
    "        self.__name=name\n",
    "        self.__age=age\n",
    "    def set_name(self,name):\n",
    "        self.__name=name\n",
    "    def get_name(self):\n",
    "        return self.__name\n",
    "    def get_age(self):\n",
    "        return self.__age\n",
    "    def set_age(self,age):\n",
    "        if age>0:\n",
    "            self.__age=age\n",
    "        else:\n",
    "            print(\"age cannot be negative\")\n",
    "p=person(\"john\",24)\n",
    "print(p.get_name())\n",
    "print(p.get_age())\n",
    "p.set_name(\"abin\")\n",
    "print(p.get_name())\n",
    "p.set_age(-1)\n"
   ]
  },
  {
   "cell_type": "code",
   "execution_count": null,
   "id": "cdf0a810",
   "metadata": {},
   "outputs": [
    {
     "name": "stdout",
     "output_type": "stream",
     "text": [
      "i am proteccted\n"
     ]
    },
    {
     "ename": "AttributeError",
     "evalue": "'child' object has no attribute '_child__private'",
     "output_type": "error",
     "traceback": [
      "\u001b[31m---------------------------------------------------------------------------\u001b[39m",
      "\u001b[31mAttributeError\u001b[39m                            Traceback (most recent call last)",
      "\u001b[36mCell\u001b[39m\u001b[36m \u001b[39m\u001b[32mIn[35]\u001b[39m\u001b[32m, line 11\u001b[39m\n\u001b[32m      8\u001b[39m         \u001b[38;5;28mprint\u001b[39m(\u001b[38;5;28mself\u001b[39m.__private)\n\u001b[32m     10\u001b[39m c=child()\n\u001b[32m---> \u001b[39m\u001b[32m11\u001b[39m \u001b[43mc\u001b[49m\u001b[43m.\u001b[49m\u001b[43mshow\u001b[49m\u001b[43m(\u001b[49m\u001b[43m)\u001b[49m\n",
      "\u001b[36mCell\u001b[39m\u001b[36m \u001b[39m\u001b[32mIn[35]\u001b[39m\u001b[32m, line 8\u001b[39m, in \u001b[36mchild.show\u001b[39m\u001b[34m(self)\u001b[39m\n\u001b[32m      6\u001b[39m \u001b[38;5;28;01mdef\u001b[39;00m\u001b[38;5;250m \u001b[39m\u001b[34mshow\u001b[39m(\u001b[38;5;28mself\u001b[39m):\n\u001b[32m      7\u001b[39m     \u001b[38;5;28mprint\u001b[39m(\u001b[38;5;28mself\u001b[39m._protected)\n\u001b[32m----> \u001b[39m\u001b[32m8\u001b[39m     \u001b[38;5;28mprint\u001b[39m(\u001b[38;5;28;43mself\u001b[39;49m\u001b[43m.\u001b[49m\u001b[43m__private\u001b[49m)\n",
      "\u001b[31mAttributeError\u001b[39m: 'child' object has no attribute '_child__private'"
     ]
    }
   ],
   "source": [
    "class parent:\n",
    "    def __init__(self):\n",
    "        self._protected=\"i am proteccted\"\n",
    "        self.__private=\"i am private\"\n",
    "class child(parent):\n",
    "    def show(self):\n",
    "        print(self._protected)\n",
    "        print(self.__private)\n",
    "        \n",
    "c=child()\n",
    "c.show()"
   ]
  },
  {
   "cell_type": "code",
   "execution_count": 42,
   "id": "e882d365",
   "metadata": {},
   "outputs": [
    {
     "name": "stdout",
     "output_type": "stream",
     "text": [
      "i am proteccted\n"
     ]
    }
   ],
   "source": [
    "class parent:\n",
    "    def __init__(self):\n",
    "        self._protected=\"i am proteccted\"\n",
    "        self.__private=\"i am private\"\n",
    "class child(parent):\n",
    "    def show(self):\n",
    "        print(self._protected)\n",
    "       # print(self.__private)\n",
    "        \n",
    "c=child()\n",
    "c.show()"
   ]
  },
  {
   "cell_type": "markdown",
   "id": "54c83225",
   "metadata": {},
   "source": [
    "acces private"
   ]
  },
  {
   "cell_type": "code",
   "execution_count": null,
   "id": "ec7c9dc4",
   "metadata": {},
   "outputs": [
    {
     "name": "stdout",
     "output_type": "stream",
     "text": [
      " name is john  age is 21\n"
     ]
    }
   ],
   "source": [
    "class parent:\n",
    "    def __init__(self,name,age):\n",
    "        self._name=name\n",
    "        self._age=age\n",
    "    def show(self): # accesing private\n",
    "        return self._name\n",
    "    def age(self):\n",
    "        return self._age\n",
    "class child(parent):\n",
    "    def show1(self):\n",
    "        print(f\" name is {self.show()}  age is {self.age()}\")\n",
    "       # print(self.__private)\n",
    "        \n",
    "c=child(\"john\",21)\n",
    "c.show1()"
   ]
  },
  {
   "cell_type": "markdown",
   "id": "35ae4696",
   "metadata": {},
   "source": [
    "abstract method"
   ]
  },
  {
   "cell_type": "code",
   "execution_count": null,
   "id": "b9293aec",
   "metadata": {},
   "outputs": [
    {
     "ename": "TypeError",
     "evalue": "Can't instantiate abstract class arr without an implementation for abstract method 'aa'",
     "output_type": "error",
     "traceback": [
      "\u001b[31m---------------------------------------------------------------------------\u001b[39m",
      "\u001b[31mTypeError\u001b[39m                                 Traceback (most recent call last)",
      "\u001b[36mCell\u001b[39m\u001b[36m \u001b[39m\u001b[32mIn[56]\u001b[39m\u001b[32m, line 9\u001b[39m\n\u001b[32m      7\u001b[39m \u001b[38;5;28;01mclass\u001b[39;00m\u001b[38;5;250m \u001b[39m\u001b[34;01marr\u001b[39;00m(app):\n\u001b[32m      8\u001b[39m     \u001b[38;5;28;01mpass\u001b[39;00m\n\u001b[32m----> \u001b[39m\u001b[32m9\u001b[39m a=\u001b[43marr\u001b[49m\u001b[43m(\u001b[49m\u001b[43m)\u001b[49m\n",
      "\u001b[31mTypeError\u001b[39m: Can't instantiate abstract class arr without an implementation for abstract method 'aa'"
     ]
    }
   ],
   "source": [
    "from abc import ABC,abstractmethod\n",
    "\n",
    "class app(ABC):\n",
    "    @abstractmethod\n",
    "    def aa(self):\n",
    "        print(10)\n",
    "class arr(app):\n",
    "    pass\n",
    "a=arr() #cannot acces functions with abstract method\n"
   ]
  },
  {
   "cell_type": "markdown",
   "id": "28afecd5",
   "metadata": {},
   "source": []
  },
  {
   "cell_type": "code",
   "execution_count": 58,
   "id": "05530106",
   "metadata": {},
   "outputs": [
    {
     "name": "stdout",
     "output_type": "stream",
     "text": [
      "10\n"
     ]
    }
   ],
   "source": [
    "from abc import ABC,abstractmethod\n",
    "\n",
    "class app(ABC):\n",
    "    @abstractmethod\n",
    "    def aa(self):\n",
    "        print(10)\n",
    "class arr(app):\n",
    "     def aa(self): #rewrite cheytal error pokum,must rewite funcition\n",
    "        print(10)\n",
    "a=arr()\n",
    "a.aa()\n"
   ]
  },
  {
   "cell_type": "code",
   "execution_count": null,
   "id": "23b5a366",
   "metadata": {},
   "outputs": [
    {
     "name": "stdout",
     "output_type": "stream",
     "text": [
      "10\n",
      "hi\n"
     ]
    }
   ],
   "source": [
    "from abc import ABC,abstractmethod\n",
    "\n",
    "class app(ABC):\n",
    "\n",
    "    @abstractmethod\n",
    "    def aa(self):\n",
    "        print(10)\n",
    "\n",
    "    def aa2(self):\n",
    "        print(\"hi\")\n",
    "\n",
    "class arr(app):\n",
    "     \n",
    "     def aa(self): #rewrite cheytal error pokum,must rewite funcition\n",
    "        print(10)\n",
    "    \n",
    "a=arr()\n",
    "a.aa()\n",
    "a.aa2() #can acces functions wihtout abstract methods"
   ]
  },
  {
   "cell_type": "markdown",
   "id": "745c8440",
   "metadata": {},
   "source": [
    "polymorphism"
   ]
  },
  {
   "cell_type": "code",
   "execution_count": 78,
   "id": "ad9dbb63",
   "metadata": {},
   "outputs": [
    {
     "name": "stdout",
     "output_type": "stream",
     "text": [
      "1\n",
      "2\n"
     ]
    }
   ],
   "source": [
    "class c:\n",
    "    def car(self):\n",
    "        print(1)\n",
    "class r:\n",
    "    def car(self):\n",
    "        print(2)\n",
    "\n",
    "def main(obj):\n",
    "    obj.car()\n",
    "main(c())\n",
    "main(r())"
   ]
  },
  {
   "cell_type": "code",
   "execution_count": null,
   "id": "d89cb1c1",
   "metadata": {},
   "outputs": [],
   "source": []
  }
 ],
 "metadata": {
  "kernelspec": {
   "display_name": "Python 3",
   "language": "python",
   "name": "python3"
  },
  "language_info": {
   "codemirror_mode": {
    "name": "ipython",
    "version": 3
   },
   "file_extension": ".py",
   "mimetype": "text/x-python",
   "name": "python",
   "nbconvert_exporter": "python",
   "pygments_lexer": "ipython3",
   "version": "3.13.7"
  }
 },
 "nbformat": 4,
 "nbformat_minor": 5
}
