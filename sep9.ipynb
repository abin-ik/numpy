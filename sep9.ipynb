{
 "cells": [
  {
   "cell_type": "code",
   "execution_count": 1,
   "id": "9f1c646b",
   "metadata": {},
   "outputs": [],
   "source": [
    "class name:\n",
    "    def __init__(self,name):\n",
    "        self.__name=name\n",
    "\n",
    "\n",
    "    def get_name(self):\n",
    "        return self.__name\n",
    "    \n",
    "    def set_name(self,name):\n",
    "        return self.__name\n",
    "    "
   ]
  },
  {
   "cell_type": "code",
   "execution_count": 11,
   "id": "c5f770d7",
   "metadata": {},
   "outputs": [
    {
     "data": {
      "text/plain": [
       "11"
      ]
     },
     "execution_count": 11,
     "metadata": {},
     "output_type": "execute_result"
    }
   ],
   "source": [
    "class student:\n",
    "    def __init__(self,name,grade):\n",
    "        self.__name=name\n",
    "        self.__grade=grade\n",
    "    \n",
    "    def get1_grade(self):\n",
    "        return self.__grade\n",
    "    \n",
    "    def set_grade(self,grade):\n",
    "        self.__grade=grade\n",
    "\n",
    "\n",
    "c=student(\"abin\",1111)\n",
    "c.get1_grade()\n",
    "c.set_grade(11)\n",
    "c.get1_grade()"
   ]
  },
  {
   "cell_type": "code",
   "execution_count": 27,
   "id": "29f3eb49",
   "metadata": {},
   "outputs": [
    {
     "name": "stdout",
     "output_type": "stream",
     "text": [
      "3\n"
     ]
    }
   ],
   "source": [
    "\n",
    "class calculator:\n",
    "    \n",
    "    def add(self,*args):\n",
    "        s = 0\n",
    "        for i in args:\n",
    "            s=s+i\n",
    "        print(s)\n",
    "c1=calculator()\n",
    "c1.add(1,2)"
   ]
  },
  {
   "cell_type": "code",
   "execution_count": 30,
   "id": "0a28cdb4",
   "metadata": {},
   "outputs": [
    {
     "name": "stdout",
     "output_type": "stream",
     "text": [
      "kwarg recievd {'n1': 3, 'n2': 4}\n",
      "7\n"
     ]
    }
   ],
   "source": [
    "class calculator:\n",
    "    def add(self,**kwargs):\n",
    "        print(\"kwarg recievd\",kwargs)\n",
    "        return sum(kwargs.values())\n",
    "c1=calculator()\n",
    "print(c1.add(n1=3,n2=4))"
   ]
  },
  {
   "cell_type": "code",
   "execution_count": null,
   "id": "64d234bd",
   "metadata": {},
   "outputs": [],
   "source": [
    "class calculator:\n",
    "    def add(self,**kwargs):\n",
    "        for i in kwargs:"
   ]
  }
 ],
 "metadata": {
  "kernelspec": {
   "display_name": "Python 3",
   "language": "python",
   "name": "python3"
  },
  "language_info": {
   "codemirror_mode": {
    "name": "ipython",
    "version": 3
   },
   "file_extension": ".py",
   "mimetype": "text/x-python",
   "name": "python",
   "nbconvert_exporter": "python",
   "pygments_lexer": "ipython3",
   "version": "3.13.7"
  }
 },
 "nbformat": 4,
 "nbformat_minor": 5
}
