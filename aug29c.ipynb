{
 "cells": [
  {
   "cell_type": "code",
   "execution_count": 2,
   "id": "eb76e9bd",
   "metadata": {},
   "outputs": [
    {
     "name": "stdout",
     "output_type": "stream",
     "text": [
      "Addition: [11 22 33 44]\n",
      "Subtraction: [ -9 -18 -27 -36]\n",
      "Multiplication: [ 10  40  90 160]\n",
      "Division: [10. 10. 10. 10.]\n"
     ]
    }
   ],
   "source": [
    "import numpy as np\n",
    "\n",
    "a = np.array([1, 2, 3, 4])\n",
    "b = np.array([10, 20, 30, 40])\n",
    "\n",
    "print(\"Addition:\", a + b)      # [11 22 33 44]\n",
    "print(\"Subtraction:\", a - b)   # [-9 -18 -27 -36]\n",
    "print(\"Multiplication:\", a * b) # [10 40 90 160]\n",
    "print(\"Division:\", b / a)      # [10. 10. 10. 10.]\n"
   ]
  },
  {
   "cell_type": "code",
   "execution_count": 3,
   "id": "3853a949",
   "metadata": {},
   "outputs": [
    {
     "data": {
      "text/plain": [
       "array([[ 3,  6,  9, 12, 15],\n",
       "       [18, 21, 24, 27, 30],\n",
       "       [33, 36, 39, 42, 45],\n",
       "       [48, 51, 54, 57, 60],\n",
       "       [63, 66, 69, 72, 75]])"
      ]
     },
     "execution_count": 3,
     "metadata": {},
     "output_type": "execute_result"
    }
   ],
   "source": [
    "x=np.arange(3,3*25+1,3).reshape(5,5)\n",
    "x\n"
   ]
  },
  {
   "cell_type": "code",
   "execution_count": 4,
   "id": "a0c2c769",
   "metadata": {},
   "outputs": [
    {
     "name": "stdout",
     "output_type": "stream",
     "text": [
      "0\n",
      "2\n",
      "0\n",
      "4\n",
      "0\n",
      "6\n",
      "0\n",
      "8\n",
      "sum= 20\n",
      "[2, 4, 6, 8]\n"
     ]
    },
    {
     "data": {
      "text/plain": [
       "8"
      ]
     },
     "execution_count": 4,
     "metadata": {},
     "output_type": "execute_result"
    }
   ],
   "source": [
    "s=0\n",
    "l=[]\n",
    "for i in range(1,5):\n",
    "    b=0\n",
    "    print(b)\n",
    "    a = (i*2)\n",
    "    print(a)\n",
    "    l.append(a)\n",
    "    s=s+a\n",
    "print(\"sum=\",s) \n",
    "print(l)\n",
    "x=0\n",
    "for i in range(len(l)):\n",
    "    if l[i]>x:\n",
    "        x=l[i]\n",
    "x\n",
    "\n",
    "     \n",
    " \n",
    "\n",
    "   \n",
    "   "
   ]
  },
  {
   "cell_type": "code",
   "execution_count": null,
   "id": "1af56843",
   "metadata": {},
   "outputs": [],
   "source": []
  }
 ],
 "metadata": {
  "kernelspec": {
   "display_name": "Python 3",
   "language": "python",
   "name": "python3"
  },
  "language_info": {
   "codemirror_mode": {
    "name": "ipython",
    "version": 3
   },
   "file_extension": ".py",
   "mimetype": "text/x-python",
   "name": "python",
   "nbconvert_exporter": "python",
   "pygments_lexer": "ipython3",
   "version": "3.13.7"
  }
 },
 "nbformat": 4,
 "nbformat_minor": 5
}
